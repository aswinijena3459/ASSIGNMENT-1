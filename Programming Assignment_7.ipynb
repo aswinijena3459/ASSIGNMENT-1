{
 "cells": [
  {
   "cell_type": "markdown",
   "metadata": {},
   "source": [
    "### 1. Write a Python Program to find sum of array?"
   ]
  },
  {
   "cell_type": "code",
   "execution_count": 13,
   "metadata": {},
   "outputs": [
    {
     "data": {
      "text/plain": [
       "336"
      ]
     },
     "execution_count": 13,
     "metadata": {},
     "output_type": "execute_result"
    }
   ],
   "source": [
    "def sum_array(array):\n",
    "    sum=0\n",
    "    for i in array:\n",
    "        sum=sum+i\n",
    "        \n",
    "    return (sum)\n",
    "\n",
    "\n",
    "array=[12,34,56,67,78,89]\n",
    "\n",
    "sum_array(array)"
   ]
  },
  {
   "cell_type": "markdown",
   "metadata": {},
   "source": [
    "### 2. Write a Python Program to find largest element in an array?"
   ]
  },
  {
   "cell_type": "code",
   "execution_count": 1,
   "metadata": {},
   "outputs": [
    {
     "data": {
      "text/plain": [
       "122"
      ]
     },
     "execution_count": 1,
     "metadata": {},
     "output_type": "execute_result"
    }
   ],
   "source": [
    "def largest_num(arr,n):\n",
    "    \n",
    "    for i in range(n):\n",
    "        max=arr[0]\n",
    "        if max < arr[i]:\n",
    "            max=arr[i]\n",
    "    return max\n",
    "    \n",
    "    \n",
    "arr=[122,23,34,45,56,67,87]\n",
    "n=len(arr)\n",
    "largest_num(arr,n)        "
   ]
  },
  {
   "cell_type": "markdown",
   "metadata": {},
   "source": [
    "### 3. Write a Python Program for array rotation?"
   ]
  },
  {
   "cell_type": "code",
   "execution_count": 13,
   "metadata": {},
   "outputs": [
    {
     "name": "stdout",
     "output_type": "stream",
     "text": [
      "original array: [1, 2, 3, 4, 5]\n",
      "after rotation [5, 1, 2, 3, 4]\n"
     ]
    }
   ],
   "source": [
    "n=5 \n",
    "d=4 #times of rotation\n",
    "a=[1,2,3,4,5]\n",
    "\n",
    "\n",
    "print(\"original array:\",a)\n",
    "for i in range(d):\n",
    "    a=a[1:]+[a[0]]\n",
    "print(\"after rotation\",a)"
   ]
  },
  {
   "cell_type": "markdown",
   "metadata": {},
   "source": [
    "### 4. Write a Python Program to Split the array and add the first part to the end?"
   ]
  },
  {
   "cell_type": "code",
   "execution_count": 18,
   "metadata": {},
   "outputs": [
    {
     "data": {
      "text/plain": [
       "[55, 678798, 32, 12, 32, 43]"
      ]
     },
     "execution_count": 18,
     "metadata": {},
     "output_type": "execute_result"
    }
   ],
   "source": [
    "def split_array(array,n,d):\n",
    "    b=array[:d]\n",
    "    array=array[d:]+b\n",
    "    return array\n",
    "\n",
    "\n",
    "a=[12,32,43,55,678798,32]\n",
    "d=3\n",
    "n=len(a)\n",
    "\n",
    "\n",
    "split_array(a,n,d)\n",
    "    "
   ]
  },
  {
   "cell_type": "markdown",
   "metadata": {},
   "source": [
    "### 5. Write a Python Program to check if given array is Monotonic?"
   ]
  },
  {
   "cell_type": "code",
   "execution_count": 26,
   "metadata": {},
   "outputs": [
    {
     "data": {
      "text/plain": [
       "True"
      ]
     },
     "execution_count": 26,
     "metadata": {},
     "output_type": "execute_result"
    }
   ],
   "source": [
    "def monotonic_array(arr):\n",
    "    for i in range(len(arr)-1):\n",
    "        if arr[i]>=arr[i+1] or arr[i]<=arr[i+1]:\n",
    "            return True\n",
    "        \n",
    "        \n",
    "\n",
    "a=[3,5,7,9,12,23,45]\n",
    "monotonic_array(a)"
   ]
  },
  {
   "cell_type": "code",
   "execution_count": null,
   "metadata": {},
   "outputs": [],
   "source": []
  },
  {
   "cell_type": "code",
   "execution_count": null,
   "metadata": {},
   "outputs": [],
   "source": []
  },
  {
   "cell_type": "code",
   "execution_count": null,
   "metadata": {},
   "outputs": [],
   "source": []
  }
 ],
 "metadata": {
  "kernelspec": {
   "display_name": "Python 3",
   "language": "python",
   "name": "python3"
  },
  "language_info": {
   "codemirror_mode": {
    "name": "ipython",
    "version": 3
   },
   "file_extension": ".py",
   "mimetype": "text/x-python",
   "name": "python",
   "nbconvert_exporter": "python",
   "pygments_lexer": "ipython3",
   "version": "3.7.6"
  }
 },
 "nbformat": 4,
 "nbformat_minor": 4
}
