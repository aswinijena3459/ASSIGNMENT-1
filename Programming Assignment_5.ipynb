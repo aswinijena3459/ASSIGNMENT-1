{
 "cells": [
  {
   "cell_type": "markdown",
   "metadata": {},
   "source": [
    "### 1. Write a Python Program to Find LCM?"
   ]
  },
  {
   "cell_type": "code",
   "execution_count": 5,
   "metadata": {},
   "outputs": [
    {
     "data": {
      "text/plain": [
       "24"
      ]
     },
     "execution_count": 5,
     "metadata": {},
     "output_type": "execute_result"
    }
   ],
   "source": [
    "def lcm(x,y):\n",
    "    maxnum=max(x,y)\n",
    "    \n",
    "    while(True):\n",
    "        if maxnum%x==0 and maxnum%y==0:\n",
    "            break\n",
    "        maxnum=maxnum+1\n",
    "    return maxnum\n",
    "\n",
    "lcm(24,12)"
   ]
  },
  {
   "cell_type": "markdown",
   "metadata": {},
   "source": [
    "### 2. Write a Python Program to Find HCF?"
   ]
  },
  {
   "cell_type": "code",
   "execution_count": 11,
   "metadata": {},
   "outputs": [
    {
     "data": {
      "text/plain": [
       "6"
      ]
     },
     "execution_count": 11,
     "metadata": {},
     "output_type": "execute_result"
    }
   ],
   "source": [
    "def hcf(x,y):\n",
    "    minnum=min(x,y)\n",
    "    \n",
    "    for i in range(1,minnum+1):\n",
    "        if x%i==0 and y%i==0:\n",
    "            hcf=i\n",
    "    \n",
    "    return hcf\n",
    "    \n",
    "hcf(54,24) "
   ]
  },
  {
   "cell_type": "markdown",
   "metadata": {},
   "source": [
    "### 3. Write a Python Program to Convert Decimal to Binary, Octal and Hexadecimal?"
   ]
  },
  {
   "cell_type": "code",
   "execution_count": 14,
   "metadata": {},
   "outputs": [
    {
     "name": "stdout",
     "output_type": "stream",
     "text": [
      "enter the decimal value: 89\n",
      "Convert into :[1] Binary,[2] Octal,[3]Hexadecimal2\n",
      "Converting to octal:  0o131\n"
     ]
    }
   ],
   "source": [
    "decimal=int(input(\"enter the decimal value: \"))\n",
    "convert=int(input(\"Convert into :[1] Binary,[2] Octal,[3]Hexadecimal\"))\n",
    "\n",
    "if convert==1:\n",
    "    print(\"Converting to binary: \", bin(decimal))\n",
    "elif convert==2:\n",
    "    print(\"Converting to octal: \", oct(decimal))\n",
    "elif convert==3:\n",
    "    print(\"Converting to hexadecimal: \", hex(decimal))    \n",
    "        "
   ]
  },
  {
   "cell_type": "markdown",
   "metadata": {},
   "source": [
    "### 4. Write a Python Program To Find ASCII value of a character?"
   ]
  },
  {
   "cell_type": "code",
   "execution_count": 17,
   "metadata": {},
   "outputs": [
    {
     "name": "stdout",
     "output_type": "stream",
     "text": [
      "enter a character to know its ASCII value: )\n",
      "The ASCII value of ) is 41\n"
     ]
    }
   ],
   "source": [
    "char=input(\"enter a character to know its ASCII value: \")\n",
    "print(\"The ASCII value of\",char,\"is\",ord(char))"
   ]
  },
  {
   "cell_type": "markdown",
   "metadata": {},
   "source": [
    "### 5. Write a Python Program to Make a Simple Calculator with 4 basic mathematical operations?"
   ]
  },
  {
   "cell_type": "code",
   "execution_count": 18,
   "metadata": {},
   "outputs": [
    {
     "name": "stdout",
     "output_type": "stream",
     "text": [
      "Enter first number: 56\n",
      "Enter second number: 36\n",
      "Select operation:[1]Addition,[2]Subtraction,[3]Multiplication,[4]Division2\n",
      "56.0 - 36.0 = 20.0\n"
     ]
    }
   ],
   "source": [
    "def add(x,y):\n",
    "    return x+y\n",
    "\n",
    "def subtract(x,y):\n",
    "    return x-y\n",
    "\n",
    "def multiply(x,y):\n",
    "    return x*y\n",
    "\n",
    "def divide(x,y):\n",
    "    return x/y\n",
    "\n",
    "x=float(input(\"Enter first number: \"))\n",
    "y=float(input(\"Enter second number: \"))\n",
    "operation=int(input(\"Select operation:[1]Addition,[2]Subtraction,[3]Multiplication,[4]Division\"))\n",
    "\n",
    "if operation==1:\n",
    "    print(x,\"+\",y,\"=\",add(x,y))\n",
    "    \n",
    "elif operation==2:\n",
    "    print(x,\"-\",y,\"=\",subtract(x,y))\n",
    "    \n",
    "elif operation==3:\n",
    "    print(x,\"*\",y,\"=\",multiply(x,y))\n",
    "    \n",
    "elif operation==4:\n",
    "    print(x,\"/\",y,\"=\",divide(x,y))\n",
    "    \n",
    "else:\n",
    "    print(\"Invalid Input\")\n",
    "\n",
    "\n"
   ]
  },
  {
   "cell_type": "code",
   "execution_count": null,
   "metadata": {},
   "outputs": [],
   "source": []
  },
  {
   "cell_type": "code",
   "execution_count": null,
   "metadata": {},
   "outputs": [],
   "source": []
  },
  {
   "cell_type": "code",
   "execution_count": null,
   "metadata": {},
   "outputs": [],
   "source": []
  },
  {
   "cell_type": "code",
   "execution_count": null,
   "metadata": {},
   "outputs": [],
   "source": []
  },
  {
   "cell_type": "code",
   "execution_count": null,
   "metadata": {},
   "outputs": [],
   "source": []
  }
 ],
 "metadata": {
  "kernelspec": {
   "display_name": "Python 3",
   "language": "python",
   "name": "python3"
  },
  "language_info": {
   "codemirror_mode": {
    "name": "ipython",
    "version": 3
   },
   "file_extension": ".py",
   "mimetype": "text/x-python",
   "name": "python",
   "nbconvert_exporter": "python",
   "pygments_lexer": "ipython3",
   "version": "3.7.6"
  }
 },
 "nbformat": 4,
 "nbformat_minor": 4
}
