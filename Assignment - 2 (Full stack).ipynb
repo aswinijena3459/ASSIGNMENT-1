{
 "cells": [
  {
   "cell_type": "markdown",
   "metadata": {},
   "source": [
    "### 1.What are the two values of the Boolean data type? How do you write them?"
   ]
  },
  {
   "cell_type": "markdown",
   "metadata": {},
   "source": [
    "### answer\n",
    "True and False are two boolean data type . written as True and False.They have no quotes and always start with capital T and F"
   ]
  },
  {
   "cell_type": "markdown",
   "metadata": {},
   "source": [
    "### 2. What are the three different types of Boolean operators?"
   ]
  },
  {
   "cell_type": "markdown",
   "metadata": {},
   "source": [
    "### answer\n",
    "and operator , not operator, or operator"
   ]
  },
  {
   "cell_type": "markdown",
   "metadata": {},
   "source": [
    "### 3. Make a list of each Boolean operator&#39;s truth tables (i.e. every possible combination of Boolean values for the operator and what it evaluate ).### "
   ]
  },
  {
   "cell_type": "markdown",
   "metadata": {},
   "source": [
    "### answer\n",
    "1)AND \n",
    "\n",
    "    1 AND 0 =>0\n",
    "    \n",
    "    1 AND 1 =>1\n",
    "    \n",
    "    0 AND 1 =>0\n",
    "    \n",
    "    0 AND 0 =>0\n",
    "    \n",
    "2)OR \n",
    "\n",
    "    1 OR 0 =>1\n",
    "    \n",
    "    1 OR 1 =>1\n",
    "    \n",
    "    0 OR 1 =>1\n",
    "    \n",
    "    0 OR 0 =>0\n",
    "    \n",
    "3)NOT\n",
    "\n",
    "    1 NOT 0 =>1\n",
    "    \n",
    "    1 NOT 1 =>0\n",
    "    \n",
    "    0 NOT 1 =>0\n",
    "    \n",
    "    0 NOT 0 =>1\n",
    "    "
   ]
  },
  {
   "cell_type": "markdown",
   "metadata": {},
   "source": [
    "### 4. What are the values of the following expressions?\n",
    "\n"
   ]
  },
  {
   "cell_type": "markdown",
   "metadata": {},
   "source": [
    "### answer\n",
    "(5 > 4) and (3 == 5) => False\n",
    "\n",
    "not (5 > 4) => False\n",
    "\n",
    "(5 > 4) or (3 == 5) => True\n",
    "\n",
    "not ((5 > 4) or (3 == 5)) => False\n",
    "\n",
    "(True and True) and (True == False) => false\n",
    "\n",
    "(not False) or (not True) => True"
   ]
  },
  {
   "cell_type": "markdown",
   "metadata": {},
   "source": [
    "### 5. What are the six comparison operators?"
   ]
  },
  {
   "cell_type": "markdown",
   "metadata": {},
   "source": [
    "### answer\n",
    "\n",
    "1)== - Equal to \n",
    "\n",
    "2)<  - less than\n",
    "\n",
    "3)!= - not equal to\n",
    "\n",
    "4)> - greater than\n",
    "\n",
    "5)>= - greater than and equal to\n",
    "\n",
    "6)<= - less than and equal to"
   ]
  },
  {
   "cell_type": "markdown",
   "metadata": {},
   "source": [
    "### 6. How do you tell the difference between the equal to and assignment operators?Describe a condition and when you would use one."
   ]
  },
  {
   "cell_type": "markdown",
   "metadata": {},
   "source": [
    "### answer\n",
    "1)\"=\" operator is an assignment operator which is used to assign value on the right to the variable on the left.\n",
    "ex- a=12, means value of a=12\n",
    "\n",
    "2)\"==\" operator whether two given operands are equal or not. If so it returns true or false\n",
    "ex- a=5, b=5 so if we write a==b it will return True\n",
    "\n",
    "\n"
   ]
  },
  {
   "cell_type": "markdown",
   "metadata": {},
   "source": [
    "###  7. Identify the three blocks in this code"
   ]
  },
  {
   "cell_type": "code",
   "execution_count": null,
   "metadata": {},
   "outputs": [],
   "source": [
    "### answer\n",
    "\n",
    "spam = 0\n",
    "\n",
    "if spam == 10:\n",
    "    print(\"eggs\")\n",
    "if spam > 5:\n",
    "    print(\"bacon\")\n",
    "else:\n",
    "    print(\"ham\")\n",
    "    print(\"spam\")\n",
    "    print(\"spam\")     "
   ]
  },
  {
   "cell_type": "markdown",
   "metadata": {},
   "source": [
    "### 8. Write code that prints Hello if 1 is stored in spam, prints Howdy if 2 is stored in spam, and prints Greetings! if anything else is stored in spam."
   ]
  },
  {
   "cell_type": "code",
   "execution_count": null,
   "metadata": {},
   "outputs": [],
   "source": [
    "spam=10\n",
    "\n",
    "if spam == 1:\n",
    "    print(\"Hello\")\n",
    "if spam==2:\n",
    "    print(\"Howdy\")\n",
    "else:\n",
    "    print(\"Greetings!\")\n",
    "      "
   ]
  },
  {
   "cell_type": "markdown",
   "metadata": {},
   "source": [
    "### 9.If your programme is stuck in an endless loop, what keys you’ll press?"
   ]
  },
  {
   "cell_type": "markdown",
   "metadata": {},
   "source": [
    "### answer  \n",
    "ctrl+c"
   ]
  },
  {
   "cell_type": "markdown",
   "metadata": {},
   "source": [
    "### 10. How can you tell the difference between break and continue?"
   ]
  },
  {
   "cell_type": "markdown",
   "metadata": {},
   "source": [
    "### answer\n",
    "the break statement- is used to terminate the loop or statement where it is present.After that the control will pass to the statements that present after the break statement if available.if it is present in nested loop then it terminates only those loops that contain the break statement.\n",
    "\n",
    "the continue statement -When the continue statement is executed in the loop, the code inside the loop following the continue statement will be skipped and the next iteration of the loop will begin."
   ]
  },
  {
   "cell_type": "markdown",
   "metadata": {},
   "source": [
    "### 11. In a for loop, what is the difference between range(10), range(0, 10), and range(0, 10, 1)?"
   ]
  },
  {
   "cell_type": "markdown",
   "metadata": {},
   "source": [
    "### answer\n"
   ]
  },
  {
   "cell_type": "markdown",
   "metadata": {},
   "source": [
    "1)range(stop)- takes 1 arguement , here user will get all the whole numbers in sequence starting from 0 until ,\n",
    " but not including the upper bound number\n",
    "\n",
    "2)range(start,stop)- takes 2 arguement , here user can choose the starting point of the sequence\n",
    "\n",
    "3)range(start,stop,step)- takes 3 arguement , here the user can choose the specifiv starting ,ending and step size of the sequence, can also decide how big the difference will be between one number and the next number"
   ]
  },
  {
   "cell_type": "markdown",
   "metadata": {},
   "source": [
    "### 12. Write a short program that prints the numbers 1 to 10 using a for loop. Then write an equivalent program that prints the numbers 1 to 10 using a while loop."
   ]
  },
  {
   "cell_type": "code",
   "execution_count": 3,
   "metadata": {},
   "outputs": [
    {
     "name": "stdout",
     "output_type": "stream",
     "text": [
      "1 2 3 4 5 6 7 8 9 10 "
     ]
    }
   ],
   "source": [
    "#for loop\n",
    "\n",
    "for i in range (1,11):\n",
    "    print(i,end=\" \")"
   ]
  },
  {
   "cell_type": "code",
   "execution_count": 2,
   "metadata": {},
   "outputs": [
    {
     "name": "stdout",
     "output_type": "stream",
     "text": [
      "1 2 3 4 5 6 7 8 9 10 "
     ]
    }
   ],
   "source": [
    "i = 1\n",
    "while(i<=10):\n",
    "    print(i,end=\" \")\n",
    "    i += 1"
   ]
  },
  {
   "cell_type": "markdown",
   "metadata": {},
   "source": [
    "### 13. If you had a function named bacon() inside a module named spam, how would you call it after importing spam?"
   ]
  },
  {
   "cell_type": "markdown",
   "metadata": {},
   "source": [
    "### answer\n",
    "spam.bacon()"
   ]
  },
  {
   "cell_type": "code",
   "execution_count": null,
   "metadata": {},
   "outputs": [],
   "source": []
  }
 ],
 "metadata": {
  "kernelspec": {
   "display_name": "Python 3",
   "language": "python",
   "name": "python3"
  },
  "language_info": {
   "codemirror_mode": {
    "name": "ipython",
    "version": 3
   },
   "file_extension": ".py",
   "mimetype": "text/x-python",
   "name": "python",
   "nbconvert_exporter": "python",
   "pygments_lexer": "ipython3",
   "version": "3.7.6"
  }
 },
 "nbformat": 4,
 "nbformat_minor": 4
}
