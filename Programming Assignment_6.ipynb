{
 "cells": [
  {
   "cell_type": "markdown",
   "metadata": {},
   "source": [
    "### 1. Write a Python Program to Display Fibonacci Sequence Using Recursion?"
   ]
  },
  {
   "cell_type": "code",
   "execution_count": 9,
   "metadata": {},
   "outputs": [
    {
     "name": "stdout",
     "output_type": "stream",
     "text": [
      "Enter number: 8\n",
      "Fibbonacci sequence: \n",
      "0\n",
      "1\n",
      "1\n",
      "2\n",
      "3\n",
      "5\n",
      "8\n",
      "13\n"
     ]
    }
   ],
   "source": [
    "\n",
    "def fibo_recur(n):\n",
    "    if n<=1:\n",
    "        return n\n",
    "    else:\n",
    "        return fibo_recur(n-1) + fibo_recur(n-2)\n",
    "n=int(input(\"Enter number: \"))\n",
    "\n",
    "print(\"Fibbonacci sequence: \")\n",
    "for i in range(n):\n",
    "    if n>1:\n",
    "        print(fibo_recur(i))\n",
    "    \n"
   ]
  },
  {
   "cell_type": "markdown",
   "metadata": {},
   "source": [
    "### 2. Write a Python Program to Find Factorial of Number Using Recursion?"
   ]
  },
  {
   "cell_type": "code",
   "execution_count": 20,
   "metadata": {},
   "outputs": [
    {
     "name": "stdout",
     "output_type": "stream",
     "text": [
      "Enter the number: 6\n",
      "factorial using recursive method: 720\n",
      "factorial using iterative method: 720\n"
     ]
    }
   ],
   "source": [
    "def factorial_recursive(n):\n",
    "    if n==1:\n",
    "        return 1\n",
    "    else :\n",
    "        return n*(factorial_recursive(n-1))\n",
    "    \n",
    "def factorial_iterative(n):\n",
    "    factorial=1\n",
    "    for i in range(n):\n",
    "        factorial=factorial*(i+1)\n",
    "        \n",
    "    return factorial\n",
    "n=int(input(\"Enter the number: \"))\n",
    "\n",
    "print(\"factorial using recursive method:\",factorial_recursive(n))\n",
    "print(\"factorial using iterative method:\",factorial_iterative(n))\n",
    "        \n",
    "    \n"
   ]
  },
  {
   "cell_type": "markdown",
   "metadata": {},
   "source": [
    "### 3. Write a Python Program to calculate your Body Mass Index?"
   ]
  },
  {
   "cell_type": "code",
   "execution_count": 3,
   "metadata": {},
   "outputs": [
    {
     "name": "stdout",
     "output_type": "stream",
     "text": [
      "Enter your weight in kg: 65\n",
      "Enter your height in m : 1.8\n",
      "Your Body Mass Index is 20.061728395061728\n"
     ]
    }
   ],
   "source": [
    "weight=float(input(\"Enter your weight in kg: \"))\n",
    "height=float(input(\"Enter your height in m : \"))\n",
    "\n",
    "\n",
    "BMI=(weight/height**2)\n",
    "print(\"Your Body Mass Index is\",BMI)"
   ]
  },
  {
   "cell_type": "markdown",
   "metadata": {},
   "source": [
    "### 4. Write a Python Program to calculate the natural logarithm of any number?\n"
   ]
  },
  {
   "cell_type": "code",
   "execution_count": 6,
   "metadata": {},
   "outputs": [
    {
     "name": "stdout",
     "output_type": "stream",
     "text": [
      "Enter any number: 8\n",
      "Natural logarithm of number is:  2.0794415416798357\n"
     ]
    }
   ],
   "source": [
    "import math\n",
    "number=int(input('Enter any number: '))\n",
    "natural_log=(math.log(number))\n",
    "\n",
    "print(\"Natural logarithm of number is: \",natural_log)"
   ]
  },
  {
   "cell_type": "markdown",
   "metadata": {},
   "source": [
    "### 5. Write a Python Program for cube sum of first n natural numbers?"
   ]
  },
  {
   "cell_type": "code",
   "execution_count": 8,
   "metadata": {},
   "outputs": [
    {
     "data": {
      "text/plain": [
       "36"
      ]
     },
     "execution_count": 8,
     "metadata": {},
     "output_type": "execute_result"
    }
   ],
   "source": [
    " def cube_sum(n):\n",
    "        summ=0\n",
    "        for i in range(1,n+1):\n",
    "            cube=i**3\n",
    "            summ=summ+cube\n",
    "        return summ\n",
    "\n",
    "cube_sum(3)\n",
    "    "
   ]
  },
  {
   "cell_type": "code",
   "execution_count": null,
   "metadata": {},
   "outputs": [],
   "source": []
  }
 ],
 "metadata": {
  "kernelspec": {
   "display_name": "Python 3",
   "language": "python",
   "name": "python3"
  },
  "language_info": {
   "codemirror_mode": {
    "name": "ipython",
    "version": 3
   },
   "file_extension": ".py",
   "mimetype": "text/x-python",
   "name": "python",
   "nbconvert_exporter": "python",
   "pygments_lexer": "ipython3",
   "version": "3.7.6"
  }
 },
 "nbformat": 4,
 "nbformat_minor": 4
}
