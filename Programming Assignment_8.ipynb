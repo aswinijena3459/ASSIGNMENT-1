{
 "cells": [
  {
   "cell_type": "markdown",
   "metadata": {},
   "source": [
    "### 1. Write a Python Program to Add Two Matrices?"
   ]
  },
  {
   "cell_type": "code",
   "execution_count": 3,
   "metadata": {},
   "outputs": [],
   "source": [
    "import numpy as np"
   ]
  },
  {
   "cell_type": "code",
   "execution_count": 8,
   "metadata": {},
   "outputs": [
    {
     "name": "stdout",
     "output_type": "stream",
     "text": [
      "[[ 4  6  8  9]\n",
      " [10  7 14 16]\n",
      " [11  8 10 16]]\n"
     ]
    }
   ],
   "source": [
    "mat1=np.matrix([[2,3,4,5],[5,6,7,8],[2,4,6,8]])\n",
    "mat2=np.matrix([[2,3,4,4],[5,1,7,8],[9,4,4,8]])\n",
    "print(mat1+mat2)"
   ]
  },
  {
   "cell_type": "markdown",
   "metadata": {},
   "source": [
    "### 2. Write a Python Program to Multiply Two Matrices?"
   ]
  },
  {
   "cell_type": "code",
   "execution_count": 13,
   "metadata": {},
   "outputs": [
    {
     "data": {
      "text/plain": [
       "matrix([[ 65,  45,  75, 104],\n",
       "        [119,  81, 138, 188],\n",
       "        [ 94,  66, 108, 152],\n",
       "        [ 63,  41,  69,  96]])"
      ]
     },
     "execution_count": 13,
     "metadata": {},
     "output_type": "execute_result"
    }
   ],
   "source": [
    "mat1=np.matrix([[2,3,4,5],[5,6,7,8],[2,4,6,8],[2,3,4,4]])\n",
    "mat2=np.matrix([[2,3,4,4],[5,1,7,8],[9,4,4,8],[2,4,6,8]])\n",
    "mat1*mat2"
   ]
  },
  {
   "cell_type": "markdown",
   "metadata": {},
   "source": [
    "### 3. Write a Python Program to Transpose a Matrix?"
   ]
  },
  {
   "cell_type": "code",
   "execution_count": 20,
   "metadata": {},
   "outputs": [
    {
     "name": "stdout",
     "output_type": "stream",
     "text": [
      "original matrix=\n",
      " [[2 3 4 5]\n",
      " [5 6 7 8]\n",
      " [2 4 6 8]\n",
      " [2 3 4 4]]\n",
      "transpose of matrix=\n",
      " [[2 5 2 2]\n",
      " [3 6 4 3]\n",
      " [4 7 6 4]\n",
      " [5 8 8 4]]\n"
     ]
    }
   ],
   "source": [
    "print(\"original matrix=\\n\",mat1)\n",
    "print(\"transpose of matrix=\\n\",mat1.T)"
   ]
  },
  {
   "cell_type": "markdown",
   "metadata": {},
   "source": [
    "### 4. Write a Python Program to Sort Words in Alphabetic Order?"
   ]
  },
  {
   "cell_type": "code",
   "execution_count": 8,
   "metadata": {},
   "outputs": [
    {
     "name": "stdout",
     "output_type": "stream",
     "text": [
      "Enter a sentence: hello sir give me full marks for this assignment\n",
      "\n",
      "the sorted words in alphabetical order is:\n",
      "\n",
      "assignment\n",
      "for\n",
      "full\n",
      "give\n",
      "hello\n",
      "marks\n",
      "me\n",
      "sir\n",
      "this\n"
     ]
    }
   ],
   "source": [
    "sentence = input(\"Enter a sentence: \")\n",
    "\n",
    "words=[word.lower() for word in sentence.split(\" \")]\n",
    "words.sort()\n",
    "print(\"\\nthe sorted words in alphabetical order is:\\n\")\n",
    "for word in words:\n",
    "    print(word)\n"
   ]
  },
  {
   "cell_type": "markdown",
   "metadata": {},
   "source": [
    "### 5. Write a Python Program to Remove Punctuation From a String?"
   ]
  },
  {
   "cell_type": "code",
   "execution_count": 14,
   "metadata": {},
   "outputs": [
    {
     "name": "stdout",
     "output_type": "stream",
     "text": [
      " Hello he said and went\n"
     ]
    }
   ],
   "source": [
    "punctuations = '''!()-[]{};:'\"\\,<>./?@#$%^&*_~'''\n",
    "\n",
    "sentence = \"Hello!!!, he said ---and went.\"\n",
    "\n",
    "# removing punctuation from the string\n",
    "no_punctuation = \" \"\n",
    "for i in my_str:\n",
    "    if i not in punctuations:\n",
    "        no_punctuation = no_punctuation + i\n",
    "\n",
    "# display the unpunctuated string\n",
    "print(no_punctuation)"
   ]
  },
  {
   "cell_type": "code",
   "execution_count": null,
   "metadata": {},
   "outputs": [],
   "source": []
  }
 ],
 "metadata": {
  "kernelspec": {
   "display_name": "Python 3",
   "language": "python",
   "name": "python3"
  },
  "language_info": {
   "codemirror_mode": {
    "name": "ipython",
    "version": 3
   },
   "file_extension": ".py",
   "mimetype": "text/x-python",
   "name": "python",
   "nbconvert_exporter": "python",
   "pygments_lexer": "ipython3",
   "version": "3.7.6"
  }
 },
 "nbformat": 4,
 "nbformat_minor": 4
}
