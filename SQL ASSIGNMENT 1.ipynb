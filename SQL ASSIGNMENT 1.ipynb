{
 "cells": [
  {
   "cell_type": "code",
   "execution_count": 5,
   "metadata": {},
   "outputs": [
    {
     "name": "stdout",
     "output_type": "stream",
     "text": [
      "True\n",
      "database created\n"
     ]
    }
   ],
   "source": [
    "import mysql.connector as connection\n",
    "try:\n",
    "    mydb=connection.connect(host=\"localhost\",user=\"root\",passwd=\"Ritus3459\",use_pure=True)\n",
    "    print(mydb.is_connected())\n",
    "    query=\"create database organisation\"\n",
    "    cursor=mydb.cursor()\n",
    "    cursor.execute(query)\n",
    "    print(\"database created\")\n",
    "    mydb.close()\n",
    "    \n",
    "except Exception as e:\n",
    "    mydb.close\n",
    "    print(str(e))"
   ]
  },
  {
   "cell_type": "code",
   "execution_count": 13,
   "metadata": {},
   "outputs": [
    {
     "name": "stdout",
     "output_type": "stream",
     "text": [
      "True\n",
      "1050 (42S01): Table 'worker' already exists\n"
     ]
    }
   ],
   "source": [
    "import mysql.connector as connection\n",
    "try:\n",
    "    mydb=connection.connect(host=\"localhost\",user=\"root\",passwd=\"Ritus3459\",use_pure=True)\n",
    "    print(mydb.is_connected())\n",
    "    query=\"create table organisation.Worker(Worker_Id INT(10) AUTO_INCREMENT PRIMARY KEY,FIRST_NAME VARCHAR(25),LAST_NAME VARCHAR(25),\"\\\n",
    "    \"SALARY INT(15),JOINING_DATE DATE,DEPARTMENT VARCHAR(25))\"\n",
    "    cursor=mydb.cursor()\n",
    "    cursor.execute(query)\n",
    "    print(\"table created\")\n",
    "    mydb.close()\n",
    "    \n",
    "except Exception as e:\n",
    "    mydb.close\n",
    "    print(str(e))"
   ]
  },
  {
   "cell_type": "code",
   "execution_count": 17,
   "metadata": {},
   "outputs": [
    {
     "name": "stdout",
     "output_type": "stream",
     "text": [
      "True\n",
      "values inserted inside table\n"
     ]
    }
   ],
   "source": [
    "import mysql.connector as connection\n",
    "try:\n",
    "    mydb=connection.connect(host=\"localhost\",database=\"organisation\",user=\"root\",passwd=\"Ritus3459\",use_pure=True)\n",
    "    print(mydb.is_connected())\n",
    "    cursor=mydb.cursor()\n",
    "    cursor.execute(\"insert into Worker values (001, 'NIHARIKA', 'ARORA', 20000, '2013-02-25', 'HR')\")\n",
    "    cursor.execute(\"insert into Worker values (002, 'AYUSHI', 'GURONDIA', 5000, '2015-02-10', 'ADMIN')\")\n",
    "    cursor.execute(\"insert into Worker values (003, 'PRIYANSHA', 'CHOUKSEY',25000,'2014-05-16', 'HR')\")\n",
    "    cursor.execute(\"insert into Worker values (004, 'APARNA', 'DESHPANDE', 8000, '2016-12-20', 'ADMIN')\")\n",
    "    cursor.execute(\"insert into Worker values (005, 'SHAFALI', 'JAIN', 21000, '2015-08-29', 'ADMIN')\")\n",
    "    cursor.execute(\"insert into Worker values (006, 'SUCHITA', 'JOSHI', 20000, '2017-02-12', 'ACCOUNT')\")\n",
    "    cursor.execute(\"insert into Worker values (007, 'SHUBHI', 'MISHRA', 15000, '2018-03-23', 'ADMIN')\") \n",
    "    cursor.execute(\"insert into Worker values (008, 'DEVYANI', 'PATIDAR', 18000, '2014-05-02','ACCOUNT')\")               \n",
    "\n",
    "    print(\"values inserted inside table\")\n",
    "    mydb.commit()\n",
    "    mydb.close()\n",
    "    \n",
    "except Exception as e:\n",
    "    mydb.close\n",
    "    print(str(e))"
   ]
  },
  {
   "cell_type": "markdown",
   "metadata": {},
   "source": [
    "### Q-1. Write an SQL query to fetch “FIRST_NAME” from Worker table using the alias name as &lt;WORKER_NAME&gt;."
   ]
  },
  {
   "cell_type": "code",
   "execution_count": 24,
   "metadata": {},
   "outputs": [],
   "source": [
    "import mysql.connector as connection\n",
    "mydb=connection.connect(host=\"localhost\",database=\"organisation\",user=\"root\",passwd=\"Ritus3459\",use_pure=True)\n",
    "cursor=mydb.cursor()\n",
    "cursor.execute(\"select FIRST_NAME from Worker as Worker_name  \")"
   ]
  },
  {
   "cell_type": "code",
   "execution_count": 25,
   "metadata": {},
   "outputs": [
    {
     "name": "stdout",
     "output_type": "stream",
     "text": [
      "('NIHARIKA',)\n",
      "('AYUSHI',)\n",
      "('PRIYANSHA',)\n",
      "('APARNA',)\n",
      "('SHAFALI',)\n",
      "('SUCHITA',)\n",
      "('SHUBHI',)\n",
      "('DEVYANI',)\n"
     ]
    }
   ],
   "source": [
    "for i in cursor.fetchall():\n",
    "    print(i)"
   ]
  },
  {
   "cell_type": "code",
   "execution_count": null,
   "metadata": {},
   "outputs": [],
   "source": [
    "#IN SQL\n",
    "Select FIRST_NAME AS WORKER_NAME from Worker"
   ]
  },
  {
   "cell_type": "markdown",
   "metadata": {},
   "source": [
    "### Q-2. Write an SQL query to fetch unique values of DEPARTMENT from Worker table."
   ]
  },
  {
   "cell_type": "code",
   "execution_count": 26,
   "metadata": {},
   "outputs": [
    {
     "name": "stdout",
     "output_type": "stream",
     "text": [
      "('HR',)\n",
      "('ADMIN',)\n",
      "('HR',)\n",
      "('ADMIN',)\n",
      "('ADMIN',)\n",
      "('ACCOUNT',)\n",
      "('ADMIN',)\n",
      "('ACCOUNT',)\n"
     ]
    }
   ],
   "source": [
    "import mysql.connector as connection\n",
    "mydb=connection.connect(host=\"localhost\",database=\"organisation\",user=\"root\",passwd=\"Ritus3459\",use_pure=True)\n",
    "cursor=mydb.cursor()\n",
    "cursor.execute(\"select DEPARTMENT from Worker \")\n",
    "for i in cursor.fetchall():\n",
    "    print(i)"
   ]
  },
  {
   "cell_type": "code",
   "execution_count": null,
   "metadata": {},
   "outputs": [],
   "source": [
    "#IN SQL\n",
    "Select Distinct DEPARTMENT from Worker"
   ]
  },
  {
   "cell_type": "markdown",
   "metadata": {},
   "source": [
    "### Q-3. Write an SQL query to show the last 5 record from a table."
   ]
  },
  {
   "cell_type": "code",
   "execution_count": 56,
   "metadata": {},
   "outputs": [],
   "source": [
    "import mysql.connector as connection\n",
    "mydb=connection.connect(host=\"localhost\",database=\"organisation\",user=\"root\",passwd=\"Ritus3459\",use_pure=True)\n",
    "cursor=mydb.cursor()\n",
    "cursor.execute(\"select * from Worker \")\n",
    "#for i in cursor.fetchall():\n",
    "    #print(i)"
   ]
  },
  {
   "cell_type": "code",
   "execution_count": 57,
   "metadata": {},
   "outputs": [
    {
     "data": {
      "text/plain": [
       "[(4, 'APARNA', 'DESHPANDE', 8000, datetime.date(2016, 12, 20), 'ADMIN'),\n",
       " (5, 'SHAFALI', 'JAIN', 21000, datetime.date(2015, 8, 29), 'ADMIN'),\n",
       " (6, 'SUCHITA', 'JOSHI', 20000, datetime.date(2017, 2, 12), 'ACCOUNT'),\n",
       " (7, 'SHUBHI', 'MISHRA', 15000, datetime.date(2018, 3, 23), 'ADMIN'),\n",
       " (8, 'DEVYANI', 'PATIDAR', 18000, datetime.date(2014, 5, 2), 'ACCOUNT')]"
      ]
     },
     "execution_count": 57,
     "metadata": {},
     "output_type": "execute_result"
    }
   ],
   "source": [
    "records=cursor.fetchall()\n",
    "records[3:]"
   ]
  },
  {
   "cell_type": "code",
   "execution_count": null,
   "metadata": {},
   "outputs": [],
   "source": [
    "# IN SQL\n",
    "SELECT TOP 5 * FROM Worker ORDER BY Worker_Id DESC"
   ]
  },
  {
   "cell_type": "code",
   "execution_count": null,
   "metadata": {},
   "outputs": [],
   "source": []
  },
  {
   "cell_type": "code",
   "execution_count": null,
   "metadata": {},
   "outputs": [],
   "source": []
  },
  {
   "cell_type": "code",
   "execution_count": null,
   "metadata": {},
   "outputs": [],
   "source": []
  },
  {
   "cell_type": "code",
   "execution_count": null,
   "metadata": {},
   "outputs": [],
   "source": []
  }
 ],
 "metadata": {
  "kernelspec": {
   "display_name": "Python 3",
   "language": "python",
   "name": "python3"
  },
  "language_info": {
   "codemirror_mode": {
    "name": "ipython",
    "version": 3
   },
   "file_extension": ".py",
   "mimetype": "text/x-python",
   "name": "python",
   "nbconvert_exporter": "python",
   "pygments_lexer": "ipython3",
   "version": "3.7.6"
  }
 },
 "nbformat": 4,
 "nbformat_minor": 4
}
