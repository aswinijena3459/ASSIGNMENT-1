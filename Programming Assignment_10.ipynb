{
 "cells": [
  {
   "cell_type": "markdown",
   "metadata": {},
   "source": [
    "### 1.\tWrite a Python program to find sum of elements in list?"
   ]
  },
  {
   "cell_type": "code",
   "execution_count": 18,
   "metadata": {},
   "outputs": [
    {
     "data": {
      "text/plain": [
       "22"
      ]
     },
     "execution_count": 18,
     "metadata": {},
     "output_type": "execute_result"
    }
   ],
   "source": [
    "def list_sum(lst):\n",
    "    sum_=0\n",
    "    for i in lst:\n",
    "        sum_=sum_+ i\n",
    "        \n",
    "    return sum_\n",
    "\n",
    "    \n",
    "lst1=[1,2,3,4,5,7]    \n",
    "list_sum(lst1)    \n",
    "\n",
    "        \n",
    "        "
   ]
  },
  {
   "cell_type": "markdown",
   "metadata": {},
   "source": [
    "### 2.\tWrite a Python program to  Multiply all numbers in the list?"
   ]
  },
  {
   "cell_type": "code",
   "execution_count": 20,
   "metadata": {},
   "outputs": [
    {
     "data": {
      "text/plain": [
       "840"
      ]
     },
     "execution_count": 20,
     "metadata": {},
     "output_type": "execute_result"
    }
   ],
   "source": [
    "def list_sum(lst):\n",
    "    sum_=1\n",
    "    for i in lst:\n",
    "        sum_=sum_* i\n",
    "        \n",
    "    return sum_\n",
    "\n",
    "    \n",
    "lst1=[1,2,3,4,5,7]    \n",
    "list_sum(lst1)    \n"
   ]
  },
  {
   "cell_type": "markdown",
   "metadata": {},
   "source": [
    "### 3.\tWrite a Python program to find smallest number in a list?"
   ]
  },
  {
   "cell_type": "code",
   "execution_count": 4,
   "metadata": {},
   "outputs": [
    {
     "name": "stdout",
     "output_type": "stream",
     "text": [
      "the smallest element is :  2\n"
     ]
    }
   ],
   "source": [
    "def smallest(lst):\n",
    "    small=lst[0]\n",
    "    for i in range(len(lst)):\n",
    "        \n",
    "        if small>lst[i]:\n",
    "            small=lst[i]\n",
    "    #return small   \n",
    "    print(\"the smallest element is : \",small)\n",
    "    \n",
    "lst=[11,2,3,4,5,7] \n",
    "\n",
    "smallest(lst)    \n"
   ]
  },
  {
   "cell_type": "markdown",
   "metadata": {},
   "source": [
    "### 4.\tWrite a Python program to find largest number in a list?"
   ]
  },
  {
   "cell_type": "code",
   "execution_count": 5,
   "metadata": {},
   "outputs": [
    {
     "name": "stdout",
     "output_type": "stream",
     "text": [
      "the largest element is :  11\n"
     ]
    }
   ],
   "source": [
    "def largest(lst):\n",
    "    large=lst[0]\n",
    "    for i in range(len(lst)):\n",
    "        \n",
    "        if large<lst[i]:\n",
    "            large=lst[i]\n",
    "    #return small   \n",
    "    print(\"the largest element is : \",large)\n",
    "    \n",
    "lst=[11,2,3,4,5,7] \n",
    "\n",
    "largest(lst)    "
   ]
  },
  {
   "cell_type": "markdown",
   "metadata": {},
   "source": [
    "### 5.\tWrite a Python program to find second largest number in a list?"
   ]
  },
  {
   "cell_type": "code",
   "execution_count": 14,
   "metadata": {},
   "outputs": [
    {
     "name": "stdout",
     "output_type": "stream",
     "text": [
      "list:: 8,8,7,5,42,76\n"
     ]
    },
    {
     "data": {
      "text/plain": [
       "[8, 8, 7, 5, 42, 76]"
      ]
     },
     "execution_count": 14,
     "metadata": {},
     "output_type": "execute_result"
    }
   ],
   "source": [
    "l=[int(i) for i in input(\"list:: \").split(\",\")]\n",
    "l"
   ]
  },
  {
   "cell_type": "code",
   "execution_count": 23,
   "metadata": {},
   "outputs": [
    {
     "data": {
      "text/plain": [
       "61"
      ]
     },
     "execution_count": 23,
     "metadata": {},
     "output_type": "execute_result"
    }
   ],
   "source": [
    "def sec_largest(lst):\n",
    "    lst.sort()\n",
    "    return(lst[-2])\n",
    "\n",
    "lst1=[23,43,23,12,45,31,67,61]\n",
    "\n",
    "sec_largest(lst1)\n"
   ]
  },
  {
   "cell_type": "markdown",
   "metadata": {},
   "source": [
    "### 6.\tWrite a Python program to find N largest elements from a list?"
   ]
  },
  {
   "cell_type": "code",
   "execution_count": 29,
   "metadata": {},
   "outputs": [
    {
     "data": {
      "text/plain": [
       "[45, 54, 56, 67, 76, 83, 89, 767]"
      ]
     },
     "execution_count": 29,
     "metadata": {},
     "output_type": "execute_result"
    }
   ],
   "source": [
    "def five_largest(lst,n):\n",
    "    lst.sort()\n",
    "    return(lst[-n:])\n",
    "\n",
    "lst1=[23,43,83,12,29,45,67,89,76,54,31,34,56,767]\n",
    "\n",
    "five_largest(lst1,8)"
   ]
  },
  {
   "cell_type": "markdown",
   "metadata": {},
   "source": [
    "### 7.\tWrite a Python program to print even numbers in a list?"
   ]
  },
  {
   "cell_type": "code",
   "execution_count": 31,
   "metadata": {},
   "outputs": [
    {
     "name": "stdout",
     "output_type": "stream",
     "text": [
      "12\n",
      "76\n",
      "54\n",
      "34\n",
      "56\n"
     ]
    }
   ],
   "source": [
    "lst1=[23,43,83,12,29,45,67,89,76,54,31,34,56,767]\n",
    "for i in lst1:\n",
    "    if i%2==0:\n",
    "        print(i)"
   ]
  },
  {
   "cell_type": "markdown",
   "metadata": {},
   "source": [
    "### 8.\tWrite a Python program to print odd numbers in a List?"
   ]
  },
  {
   "cell_type": "code",
   "execution_count": 32,
   "metadata": {},
   "outputs": [
    {
     "name": "stdout",
     "output_type": "stream",
     "text": [
      "23\n",
      "43\n",
      "83\n",
      "29\n",
      "45\n",
      "67\n",
      "89\n",
      "31\n",
      "767\n"
     ]
    }
   ],
   "source": [
    "lst1=[23,43,83,12,29,45,67,89,76,54,31,34,56,767]\n",
    "for i in lst1:\n",
    "    if i%2!=0:\n",
    "        print(i)"
   ]
  },
  {
   "cell_type": "markdown",
   "metadata": {},
   "source": [
    "### 9.\tWrite a Python program to Remove empty List from List?"
   ]
  },
  {
   "cell_type": "code",
   "execution_count": 61,
   "metadata": {},
   "outputs": [
    {
     "name": "stdout",
     "output_type": "stream",
     "text": [
      "[[12, 44, 32, 5], ['sdg', ['sdgnk', [23, 546, 5, 43, 2]]], ['sdjv', 'jgsd', '87']]\n"
     ]
    }
   ],
   "source": [
    "a=[[12, 44, 32, 5],[],['sdg', ['sdgnk', [23, 546, 5, 43, 2]]],['sdjv', 'jgsd', '87'],[]]\n",
    "for i in a:\n",
    "    if len(i)==0:\n",
    "        a.remove(i)\n",
    "print(a)        "
   ]
  },
  {
   "cell_type": "markdown",
   "metadata": {},
   "source": [
    "### 10.\tWrite a Python program to Cloning or Copying a list?"
   ]
  },
  {
   "cell_type": "code",
   "execution_count": 66,
   "metadata": {},
   "outputs": [
    {
     "name": "stdout",
     "output_type": "stream",
     "text": [
      "Original List: [1, 3, 5, 7, 8, 9, 5]\n",
      "After Cloning: [1, 3, 5, 7, 8, 9, 5]\n"
     ]
    }
   ],
   "source": [
    "def clone(lst):\n",
    "    lst_clone=list(lst)\n",
    "    return lst_clone\n",
    "\n",
    "lst1=[1,3,5,7,8,9,5]\n",
    "print(\"Original List:\", lst1)\n",
    "print(\"After Cloning:\", clone(lst1))"
   ]
  },
  {
   "cell_type": "markdown",
   "metadata": {},
   "source": [
    "### 11.\tWrite a Python program to Count occurrences of an element in a list?"
   ]
  },
  {
   "cell_type": "code",
   "execution_count": 75,
   "metadata": {},
   "outputs": [
    {
     "name": "stdout",
     "output_type": "stream",
     "text": [
      "list::  [1, 3, 5, 7, 8, 9, 5]\n",
      "no of times 5 occurs is 2\n"
     ]
    }
   ],
   "source": [
    "def no_counting(lst,n):\n",
    "    times=lst.count(n)\n",
    "    return times\n",
    "\n",
    "\n",
    "lst1=[1,3,5,7,8,9,5]\n",
    "n=5\n",
    "print(\"list:: \",lst1)\n",
    "print(\"no of times\",n,\"occurs is\",no_counting(lst1,5))\n",
    "\n"
   ]
  },
  {
   "cell_type": "code",
   "execution_count": null,
   "metadata": {},
   "outputs": [],
   "source": []
  },
  {
   "cell_type": "code",
   "execution_count": null,
   "metadata": {},
   "outputs": [],
   "source": []
  },
  {
   "cell_type": "code",
   "execution_count": null,
   "metadata": {},
   "outputs": [],
   "source": []
  },
  {
   "cell_type": "code",
   "execution_count": null,
   "metadata": {},
   "outputs": [],
   "source": []
  }
 ],
 "metadata": {
  "kernelspec": {
   "display_name": "Python 3",
   "language": "python",
   "name": "python3"
  },
  "language_info": {
   "codemirror_mode": {
    "name": "ipython",
    "version": 3
   },
   "file_extension": ".py",
   "mimetype": "text/x-python",
   "name": "python",
   "nbconvert_exporter": "python",
   "pygments_lexer": "ipython3",
   "version": "3.7.6"
  }
 },
 "nbformat": 4,
 "nbformat_minor": 4
}
